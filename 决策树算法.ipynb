{
 "cells": [
  {
   "cell_type": "code",
   "execution_count": 21,
   "metadata": {},
   "outputs": [
    {
     "name": "stdout",
     "output_type": "stream",
     "text": [
      "    色泽  根蒂  敲声  纹理  脐部  触感 好瓜\n",
      "0   青绿  蜷缩  浊响  清晰  凹陷  硬滑  是\n",
      "1   乌黑  蜷缩  沉闷  清晰  凹陷  硬滑  是\n",
      "2   乌黑  蜷缩  浊响  清晰  凹陷  硬滑  是\n",
      "3   青绿  蜷缩  沉闷  清晰  凹陷  硬滑  是\n",
      "4   浅白  蜷缩  浊响  清晰  凹陷  硬滑  是\n",
      "5   青绿  稍蜷  浊响  清晰  稍凹  软粘  是\n",
      "6   乌黑  稍蜷  浊响  稍糊  稍凹  软粘  是\n",
      "7   乌黑  稍蜷  浊响  清晰  稍凹  硬滑  是\n",
      "8   乌黑  稍蜷  沉闷  稍糊  稍凹  硬滑  否\n",
      "9   青绿  硬挺  清脆  清晰  平坦  软粘  否\n",
      "10  浅白  硬挺  清脆  模糊  平坦  硬滑  否\n",
      "11  浅白  蜷缩  浊响  模糊  平坦  软粘  否\n",
      "12  青绿  稍蜷  浊响  稍糊  凹陷  硬滑  否\n",
      "13  浅白  稍蜷  沉闷  稍糊  凹陷  硬滑  否\n",
      "14  乌黑  稍蜷  浊响  清晰  稍凹  软粘  否\n",
      "15  浅白  蜷缩  浊响  模糊  平坦  硬滑  否\n",
      "16  青绿  蜷缩  沉闷  稍糊  稍凹  硬滑  否\n"
     ]
    },
    {
     "data": {
      "text/plain": [
       "-1.0"
      ]
     },
     "execution_count": 21,
     "metadata": {},
     "output_type": "execute_result"
    }
   ],
   "source": [
    "import pandas as pd\n",
    "file_path = \"./text_3.csv\"\n",
    "data = pd.read_csv(file_path,sep = ',')\n",
    "\n",
    "data = data.drop([\"编号\",\"密度\",\"含糖率\"],axis = 1)\n",
    "print(data)\n",
    "y_value = data['好瓜'].groupby(data['好瓜']).count()\n",
    "h_d = -y_value/(y_value.sum())\n",
    "h_d = h_d.sum()\n",
    "h_d"
   ]
  },
  {
   "cell_type": "code",
   "execution_count": null,
   "metadata": {},
   "outputs": [],
   "source": []
  }
 ],
 "metadata": {
  "kernelspec": {
   "display_name": "Python 3",
   "language": "python",
   "name": "python3"
  },
  "language_info": {
   "codemirror_mode": {
    "name": "ipython",
    "version": 3
   },
   "file_extension": ".py",
   "mimetype": "text/x-python",
   "name": "python",
   "nbconvert_exporter": "python",
   "pygments_lexer": "ipython3",
   "version": "3.6.6"
  }
 },
 "nbformat": 4,
 "nbformat_minor": 2
}
