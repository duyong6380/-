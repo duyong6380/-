{
 "cells": [
  {
   "cell_type": "markdown",
   "metadata": {},
   "source": [
    "## 感知机原始算法\n",
    "\n",
    "### 感知机模型\n",
    "$$ f(x) = sign(w \\bullet x + b) $$\n",
    "其中sign是符号函数,$$ sign(x) =\\begin{cases}\n",
    "    +1, \\qquad  x \\ge 0 \\\\\n",
    "    -1, \\qquad  x \\lt 0\n",
    "    \\end{cases} $$\n",
    "#### 使用随机梯度下降算法进行获取\n",
    "计算方式为：$$ w = w + \\eta y_i x_i$$ $$ b = b + \\eta y_i$$\n"
   ]
  },
  {
   "cell_type": "code",
   "execution_count": 41,
   "metadata": {},
   "outputs": [
    {
     "data": {
      "text/plain": [
       "(array([1., 1.]), matrix([[-3]]))"
      ]
     },
     "execution_count": 41,
     "metadata": {},
     "output_type": "execute_result"
    },
    {
     "data": {
      "image/png": "[encoded data removed]",
      "text/plain": [
       "<Figure size 432x288 with 1 Axes>"
      ]
     },
     "metadata": {
      "needs_background": "light"
     },
     "output_type": "display_data"
    }
   ],
   "source": [
    "import numpy as np\n",
    "import pandas as pd \n",
    "from matplotlib import pyplot as plt\n",
    "\n",
    "%matplotlib inline\n",
    "\n",
    "def getData():\n",
    "    data = np.mat([[3,3],[4,3],[1,1]])\n",
    "    label = np.mat([1,1,-1])\n",
    "    return data,label\n",
    "import pdb\n",
    "\n",
    "def perceline(data,label):\n",
    "    a = 1\n",
    "    w = np.zeros((1,2))\n",
    "    b = 0\n",
    "    flag = True\n",
    "    (m,n) = data.shape\n",
    "    while flag:\n",
    "        flag = False\n",
    "        for i in range(m):\n",
    "            value = label[:,i] * (w * data[i,:].T + b)\n",
    "            if value <= 0:\n",
    "                w = w + a * label[:,i] * data[i,:]\n",
    "                b = b + a * label[:,i]\n",
    "                flag = True\n",
    "    return w,b\n",
    "        \n",
    "## 感知机对偶算法    \n",
    "def dual_perceline(data,label):\n",
    "    src_data = np.concatenate((data,label.T),axis=1)\n",
    "    gram_matrix = np.dot(data,data.T)\n",
    "    a = np.zeros((3,1))\n",
    "    b = 0\n",
    "    flag = True\n",
    "    m,n = data.shape\n",
    "    while flag:\n",
    "        flag = False\n",
    "        for i in range(m):\n",
    "            value = 0\n",
    "            for j in range(m):\n",
    "                value += a[j,:] * label[:,j] * gram_matrix[i,j]\n",
    "            if label[:,i] * (value + b) <= 0:\n",
    "                a[i,:] = a[i,:] + 1\n",
    "                b = b + label[:,i]\n",
    "                flag = True\n",
    "    return a, b\n",
    "\n",
    "\n",
    "data,label = getData()\n",
    "plt.scatter(data[:,0].tolist(),data[:,1].tolist())\n",
    "tmp_data,b = dual_perceline(data,label)\n",
    "w = np.sum(np.array(tmp_data) * np.array(label.T)* np.array(data),axis = 0)\n",
    "w,b"
   ]
  }
 ],
 "metadata": {
  "kernelspec": {
   "display_name": "Python 3",
   "language": "python",
   "name": "python3"
  },
  "language_info": {
   "codemirror_mode": {
    "name": "ipython",
    "version": 3
   },
   "file_extension": ".py",
   "mimetype": "text/x-python",
   "name": "python",
   "nbconvert_exporter": "python",
   "pygments_lexer": "ipython3",
   "version": "3.6.6"
  }
 },
 "nbformat": 4,
 "nbformat_minor": 2
}
